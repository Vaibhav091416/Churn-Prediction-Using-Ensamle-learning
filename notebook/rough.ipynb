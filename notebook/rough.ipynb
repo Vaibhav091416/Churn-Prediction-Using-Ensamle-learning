{
 "cells": [
  {
   "cell_type": "code",
   "execution_count": 216,
   "metadata": {},
   "outputs": [],
   "source": [
    "import pandas as pd\n",
    "import numpy as np"
   ]
  },
  {
   "cell_type": "code",
   "execution_count": 217,
   "metadata": {},
   "outputs": [],
   "source": [
    "df=pd.read_csv('raw.csv')"
   ]
  },
  {
   "cell_type": "code",
   "execution_count": 218,
   "metadata": {},
   "outputs": [
    {
     "name": "stdout",
     "output_type": "stream",
     "text": [
      "7043 21\n"
     ]
    }
   ],
   "source": [
    "row,cols=df.shape\n",
    "print(row,cols)"
   ]
  },
  {
   "cell_type": "code",
   "execution_count": 219,
   "metadata": {},
   "outputs": [
    {
     "data": {
      "text/plain": [
       "customerID          0\n",
       "gender              0\n",
       "SeniorCitizen       0\n",
       "Partner             0\n",
       "Dependents          0\n",
       "tenure              0\n",
       "PhoneService        0\n",
       "MultipleLines       0\n",
       "InternetService     0\n",
       "OnlineSecurity      0\n",
       "OnlineBackup        0\n",
       "DeviceProtection    0\n",
       "TechSupport         0\n",
       "StreamingTV         0\n",
       "StreamingMovies     0\n",
       "Contract            0\n",
       "PaperlessBilling    0\n",
       "PaymentMethod       0\n",
       "MonthlyCharges      0\n",
       "TotalCharges        0\n",
       "Churn               0\n",
       "dtype: int64"
      ]
     },
     "execution_count": 219,
     "metadata": {},
     "output_type": "execute_result"
    }
   ],
   "source": [
    "df.isnull().sum()"
   ]
  },
  {
   "cell_type": "code",
   "execution_count": 220,
   "metadata": {},
   "outputs": [
    {
     "data": {
      "text/plain": [
       "pandas.core.series.Series"
      ]
     },
     "execution_count": 220,
     "metadata": {},
     "output_type": "execute_result"
    }
   ],
   "source": [
    "df['TotalCharges']=df['TotalCharges'].replace(\" \",0).astype('float32')\n",
    "type(df['TotalCharges'])"
   ]
  },
  {
   "cell_type": "code",
   "execution_count": 221,
   "metadata": {},
   "outputs": [
    {
     "data": {
      "text/plain": [
       "dtype('float32')"
      ]
     },
     "execution_count": 221,
     "metadata": {},
     "output_type": "execute_result"
    }
   ],
   "source": [
    "df['TotalCharges'].dtype"
   ]
  },
  {
   "cell_type": "code",
   "execution_count": 222,
   "metadata": {},
   "outputs": [],
   "source": [
    "df.select_dtypes(include='number')\n",
    "df['SeniorCitizen']=df['SeniorCitizen'].astype('category')"
   ]
  },
  {
   "cell_type": "code",
   "execution_count": 223,
   "metadata": {},
   "outputs": [
    {
     "name": "stdout",
     "output_type": "stream",
     "text": [
      "tenure      0    []\n",
      "MonthlyCharges      0    []\n",
      "TotalCharges      0    []\n"
     ]
    }
   ],
   "source": [
    "for i in df.select_dtypes(include='number').columns:\n",
    "    q25,q75=np.percentile(df[i],25),np.percentile(df[i],75)\n",
    "    IQR=q75-q25\n",
    "    Threshold=IQR*1.5\n",
    "    lower,upper=q25-Threshold,q75+Threshold\n",
    "    Outliers=[i for i in df[i] if i < lower or i > upper]\n",
    "    print(i,\"    \",len(Outliers),'  ',Outliers)"
   ]
  },
  {
   "cell_type": "code",
   "execution_count": 224,
   "metadata": {},
   "outputs": [
    {
     "name": "stdout",
     "output_type": "stream",
     "text": [
      "tenure\n",
      "124.0 197.6 6\n",
      "MonthlyCharges\n",
      "171.375 258.335 13\n",
      "TotalCharges\n",
      "8868.67495727539 14289.55493774414 11\n"
     ]
    }
   ],
   "source": [
    "for col in df.select_dtypes(include='number').columns:\n",
    "    print(col)\n",
    "    q25=np.quantile(df[col],0.25)\n",
    "    q75=np.quantile(df[col],0.75)\n",
    "    iqr=q75-q25\n",
    "    a=q25-1.5*iqr\n",
    "    b=q75+1.5*iqr\n",
    "    c=q75+3.1*iqr\n",
    "    if a>0:\n",
    "        no=np.random.randint(4,13)\n",
    "        lower=list(np.random.randint(0,a,no))\n",
    "        index1=list(np.random.randint(0,row,no))\n",
    "        df.loc[index1,col]=lower\n",
    "        \n",
    "    p=np.random.randint(5,15)\n",
    "    print(b,c,p)\n",
    "    upper=list(np.random.randint(b,c,p))\n",
    "    index2=list(np.random.randint(0,row,p))\n",
    "    df.loc[index2,col]=upper "
   ]
  },
  {
   "cell_type": "code",
   "execution_count": 225,
   "metadata": {},
   "outputs": [
    {
     "name": "stdout",
     "output_type": "stream",
     "text": [
      "tenure      6    [132, 155, 153, 151, 183, 150]\n",
      "MonthlyCharges      13    [204.0, 222.0, 201.0, 194.0, 243.0, 188.0, 186.0, 248.0, 209.0, 253.0, 220.0, 226.0, 200.0]\n",
      "TotalCharges      11    [9141.0, 12393.0, 9092.0, 10883.0, 9632.0, 9267.0, 11095.0, 13967.0, 13141.0, 11615.0, 13620.0]\n"
     ]
    }
   ],
   "source": [
    "for i in df.select_dtypes(include='number').columns:\n",
    "    q25,q75=np.percentile(df[i],25),np.percentile(df[i],75)\n",
    "    IQR=q75-q25\n",
    "    Threshold=IQR*1.5\n",
    "    lower,upper=q25-Threshold,q75+Threshold\n",
    "    Outliers=[i for i in df[i] if i < lower or i > upper]\n",
    "    print(i,\"    \",len(Outliers),'  ',Outliers)"
   ]
  },
  {
   "cell_type": "code",
   "execution_count": 226,
   "metadata": {},
   "outputs": [
    {
     "data": {
      "text/plain": [
       "customerID          0\n",
       "gender              1\n",
       "SeniorCitizen       4\n",
       "Partner             3\n",
       "Dependents          4\n",
       "tenure              2\n",
       "PhoneService        3\n",
       "MultipleLines       3\n",
       "InternetService     3\n",
       "OnlineSecurity      2\n",
       "OnlineBackup        1\n",
       "DeviceProtection    2\n",
       "TechSupport         2\n",
       "StreamingTV         5\n",
       "StreamingMovies     0\n",
       "Contract            2\n",
       "PaperlessBilling    1\n",
       "PaymentMethod       4\n",
       "MonthlyCharges      0\n",
       "TotalCharges        6\n",
       "Churn               2\n",
       "dtype: int64"
      ]
     },
     "execution_count": 226,
     "metadata": {},
     "output_type": "execute_result"
    }
   ],
   "source": [
    "for i in range(50):\n",
    "    x=np.random.randint(0,row)\n",
    "    y=np.random.randint(1,cols)\n",
    "    df.iloc[x,y]=np.nan\n",
    "df.isnull().sum()"
   ]
  },
  {
   "cell_type": "code",
   "execution_count": 228,
   "metadata": {},
   "outputs": [
    {
     "data": {
      "text/plain": [
       "customerID          0\n",
       "gender              1\n",
       "SeniorCitizen       4\n",
       "Partner             3\n",
       "Dependents          4\n",
       "tenure              2\n",
       "PhoneService        3\n",
       "MultipleLines       3\n",
       "InternetService     3\n",
       "OnlineSecurity      2\n",
       "OnlineBackup        1\n",
       "DeviceProtection    2\n",
       "TechSupport         2\n",
       "StreamingTV         5\n",
       "StreamingMovies     0\n",
       "Contract            2\n",
       "PaperlessBilling    1\n",
       "PaymentMethod       4\n",
       "MonthlyCharges      0\n",
       "TotalCharges        6\n",
       "Churn               2\n",
       "dtype: int64"
      ]
     },
     "execution_count": 228,
     "metadata": {},
     "output_type": "execute_result"
    }
   ],
   "source": [
    "df.isnull().sum()"
   ]
  },
  {
   "cell_type": "code",
   "execution_count": 230,
   "metadata": {},
   "outputs": [],
   "source": [
    "df.to_csv('data.csv',index=False)"
   ]
  }
 ],
 "metadata": {
  "kernelspec": {
   "display_name": "Python 3",
   "language": "python",
   "name": "python3"
  },
  "language_info": {
   "codemirror_mode": {
    "name": "ipython",
    "version": 3
   },
   "file_extension": ".py",
   "mimetype": "text/x-python",
   "name": "python",
   "nbconvert_exporter": "python",
   "pygments_lexer": "ipython3",
   "version": "3.10.0"
  }
 },
 "nbformat": 4,
 "nbformat_minor": 2
}
