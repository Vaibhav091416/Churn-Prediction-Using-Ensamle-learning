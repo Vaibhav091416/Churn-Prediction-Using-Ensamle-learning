{
 "cells": [
  {
   "cell_type": "code",
   "execution_count": 84,
   "metadata": {},
   "outputs": [],
   "source": [
    "import pandas as pd\n",
    "import numpy as np\n",
    "import seaborn as sns\n",
    "import matplotlib.pyplot as plt\n",
    "from sklearn.impute import SimpleImputer\n",
    "from sklearn.impute import KNNImputer\n",
    "from scipy.stats import ttest_ind"
   ]
  },
  {
   "cell_type": "markdown",
   "metadata": {},
   "source": [
    "From the EDA we know,the dataset contains null, duplicate values and some amount of outliers. \\\n",
    "From the EDA we know, that some categorical type data columns are highly imbalanced. \\\n",
    "We have also observed that how distribution differs with the different categories and the different %Churn for different columns."
   ]
  },
  {
   "cell_type": "code",
   "execution_count": 29,
   "metadata": {},
   "outputs": [],
   "source": [
    "df=pd.read_csv('data.csv')"
   ]
  },
  {
   "cell_type": "code",
   "execution_count": 30,
   "metadata": {},
   "outputs": [
    {
     "data": {
      "text/plain": [
       "0"
      ]
     },
     "execution_count": 30,
     "metadata": {},
     "output_type": "execute_result"
    }
   ],
   "source": [
    "df.duplicated().sum()"
   ]
  },
  {
   "cell_type": "code",
   "execution_count": 31,
   "metadata": {},
   "outputs": [
    {
     "data": {
      "text/plain": [
       "customerID          0\n",
       "gender              1\n",
       "SeniorCitizen       4\n",
       "Partner             3\n",
       "Dependents          4\n",
       "tenure              2\n",
       "PhoneService        3\n",
       "MultipleLines       3\n",
       "InternetService     3\n",
       "OnlineSecurity      2\n",
       "OnlineBackup        1\n",
       "DeviceProtection    2\n",
       "TechSupport         2\n",
       "StreamingTV         5\n",
       "StreamingMovies     0\n",
       "Contract            2\n",
       "PaperlessBilling    1\n",
       "PaymentMethod       4\n",
       "MonthlyCharges      0\n",
       "TotalCharges        6\n",
       "Churn               2\n",
       "dtype: int64"
      ]
     },
     "execution_count": 31,
     "metadata": {},
     "output_type": "execute_result"
    }
   ],
   "source": [
    "df.isnull().sum()"
   ]
  },
  {
   "cell_type": "code",
   "execution_count": 32,
   "metadata": {},
   "outputs": [],
   "source": [
    "df.drop(columns=['customerID'],inplace=True)"
   ]
  },
  {
   "cell_type": "code",
   "execution_count": 33,
   "metadata": {},
   "outputs": [
    {
     "data": {
      "text/plain": [
       "gender               object\n",
       "SeniorCitizen       float64\n",
       "Partner              object\n",
       "Dependents           object\n",
       "tenure              float64\n",
       "PhoneService         object\n",
       "MultipleLines        object\n",
       "InternetService      object\n",
       "OnlineSecurity       object\n",
       "OnlineBackup         object\n",
       "DeviceProtection     object\n",
       "TechSupport          object\n",
       "StreamingTV          object\n",
       "StreamingMovies      object\n",
       "Contract             object\n",
       "PaperlessBilling     object\n",
       "PaymentMethod        object\n",
       "MonthlyCharges      float64\n",
       "TotalCharges        float64\n",
       "Churn                object\n",
       "dtype: object"
      ]
     },
     "execution_count": 33,
     "metadata": {},
     "output_type": "execute_result"
    }
   ],
   "source": [
    "df.dtypes"
   ]
  },
  {
   "cell_type": "code",
   "execution_count": 34,
   "metadata": {},
   "outputs": [],
   "source": [
    "df['SeniorCitizen']=df['SeniorCitizen'].astype('category') "
   ]
  },
  {
   "cell_type": "code",
   "execution_count": 51,
   "metadata": {},
   "outputs": [],
   "source": [
    "#Cateforical Imputer\n",
    "cat_impute=SimpleImputer(strategy='most_frequent')\n",
    "cat_col=df.select_dtypes(include=['category','object']).columns.values\n",
    "df[cat_col]=cat_impute.fit_transform(df[cat_col])"
   ]
  },
  {
   "cell_type": "code",
   "execution_count": 59,
   "metadata": {},
   "outputs": [
    {
     "data": {
      "text/plain": [
       "0"
      ]
     },
     "execution_count": 59,
     "metadata": {},
     "output_type": "execute_result"
    }
   ],
   "source": [
    "df[cat_col].isna().sum().sum()"
   ]
  },
  {
   "cell_type": "code",
   "execution_count": 55,
   "metadata": {},
   "outputs": [],
   "source": [
    "#Numerical values, since the number null in numerical columns  are very low we'll just drop them\n",
    "df.dropna(inplace=True) "
   ]
  },
  {
   "cell_type": "code",
   "execution_count": 58,
   "metadata": {},
   "outputs": [
    {
     "data": {
      "text/plain": [
       "0"
      ]
     },
     "execution_count": 58,
     "metadata": {},
     "output_type": "execute_result"
    }
   ],
   "source": [
    "df.isnull().sum().sum()"
   ]
  },
  {
   "cell_type": "markdown",
   "metadata": {},
   "source": [
    "### Hypothesis Testing\n",
    "We can statistically check whether all the independent variables has significant effect on target variables"
   ]
  },
  {
   "cell_type": "code",
   "execution_count": 76,
   "metadata": {},
   "outputs": [
    {
     "data": {
      "text/html": [
       "<div>\n",
       "<style scoped>\n",
       "    .dataframe tbody tr th:only-of-type {\n",
       "        vertical-align: middle;\n",
       "    }\n",
       "\n",
       "    .dataframe tbody tr th {\n",
       "        vertical-align: top;\n",
       "    }\n",
       "\n",
       "    .dataframe thead th {\n",
       "        text-align: right;\n",
       "    }\n",
       "</style>\n",
       "<table border=\"1\" class=\"dataframe\">\n",
       "  <thead>\n",
       "    <tr style=\"text-align: right;\">\n",
       "      <th></th>\n",
       "      <th>tenure</th>\n",
       "      <th>MonthlyCharges</th>\n",
       "      <th>TotalCharges</th>\n",
       "    </tr>\n",
       "    <tr>\n",
       "      <th>Churn</th>\n",
       "      <th></th>\n",
       "      <th></th>\n",
       "      <th></th>\n",
       "    </tr>\n",
       "  </thead>\n",
       "  <tbody>\n",
       "    <tr>\n",
       "      <th>No</th>\n",
       "      <td>37.656867</td>\n",
       "      <td>61.523704</td>\n",
       "      <td>2564.930667</td>\n",
       "    </tr>\n",
       "    <tr>\n",
       "      <th>Yes</th>\n",
       "      <td>18.137265</td>\n",
       "      <td>74.675496</td>\n",
       "      <td>1545.221367</td>\n",
       "    </tr>\n",
       "  </tbody>\n",
       "</table>\n",
       "</div>"
      ],
      "text/plain": [
       "          tenure  MonthlyCharges  TotalCharges\n",
       "Churn                                         \n",
       "No     37.656867       61.523704   2564.930667\n",
       "Yes    18.137265       74.675496   1545.221367"
      ]
     },
     "execution_count": 76,
     "metadata": {},
     "output_type": "execute_result"
    }
   ],
   "source": [
    "numerical_cols = df.select_dtypes(include=[np.number])\n",
    "\n",
    "# Group by 'Churn' and calculate the mean of numerical columns\n",
    "class_summary = df.groupby('Churn')[numerical_cols.columns].agg(np.mean) \n",
    "class_summary"
   ]
  },
  {
   "cell_type": "markdown",
   "metadata": {},
   "source": [
    "We can see the difference between in mean of all continious values. \\\n",
    "It suggests that there may be some relation between the continious values and Churn."
   ]
  },
  {
   "cell_type": "markdown",
   "metadata": {},
   "source": [
    "H0(Null Hypothesis):No Significant difference between the independent feature with different category of the target variable\n",
    "\n",
    "H1(Alternate Hypothesis):There is significant difference between features with different categories of Target Variable."
   ]
  },
  {
   "cell_type": "code",
   "execution_count": 88,
   "metadata": {},
   "outputs": [
    {
     "name": "stdout",
     "output_type": "stream",
     "text": [
      "\u001b[1m P_value:2.7539972292832127e-221\n",
      "\u001b[1m Reject Null Hypothesis.tenure of Churned and non-churned Customer are not the same\n",
      "\n",
      "\n",
      "\u001b[1m P_value:7.088838995641746e-69\n",
      "\u001b[1m Reject Null Hypothesis.MonthlyCharges of Churned and non-churned Customer are not the same\n",
      "\n",
      "\n",
      "\u001b[1m P_value:5.207968082025042e-73\n",
      "\u001b[1m Reject Null Hypothesis.TotalCharges of Churned and non-churned Customer are not the same\n",
      "\n",
      "\n"
     ]
    }
   ],
   "source": [
    "for i in df.select_dtypes(include='number').columns.values:\n",
    "    x=np.array(df[df.Churn=='No'][i])\n",
    "    y=np.array(df[df.Churn=='Yes'][i])\n",
    "    t,p_value=ttest_ind(x,y,axis=0,equal_var=False)\n",
    "    print('{} P_value:{}'.format('\\033[1m',p_value))\n",
    "    if p_value<0.05:\n",
    "        print('{} Reject Null Hypothesis.{} of Churned and non-churned Customer are not the same'.format('\\033[1m',i))\n",
    "    else:\n",
    "        print('{} Fail to Reject Null Hypothesis.{} of Churned and non-churned Customer are  same'.format('\\033[1m',i))\n",
    "    print('\\n')"
   ]
  },
  {
   "cell_type": "code",
   "execution_count": 82,
   "metadata": {},
   "outputs": [
    {
     "data": {
      "text/plain": [
       "array(['tenure', 'MonthlyCharges', 'TotalCharges'], dtype=object)"
      ]
     },
     "execution_count": 82,
     "metadata": {},
     "output_type": "execute_result"
    }
   ],
   "source": [
    "df.select_dtypes(include='number').columns.values"
   ]
  }
 ],
 "metadata": {
  "kernelspec": {
   "display_name": "Python 3",
   "language": "python",
   "name": "python3"
  },
  "language_info": {
   "codemirror_mode": {
    "name": "ipython",
    "version": 3
   },
   "file_extension": ".py",
   "mimetype": "text/x-python",
   "name": "python",
   "nbconvert_exporter": "python",
   "pygments_lexer": "ipython3",
   "version": "3.10.0"
  }
 },
 "nbformat": 4,
 "nbformat_minor": 2
}
